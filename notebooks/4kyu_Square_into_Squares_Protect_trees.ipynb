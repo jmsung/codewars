{
 "cells": [
  {
   "cell_type": "markdown",
   "id": "653bb851-b45b-4473-bc8e-d3e9ed2260c1",
   "metadata": {},
   "source": [
    "https://www.codewars.com/kata/54eb33e5bc1a25440d000891/train/python\n",
    "\n",
    "# 4kyu_Square_into_Squares_Protect_trees\n",
    "\n",
    "\n",
    "```\n",
    "My little sister came back home from school with the following task: given a squared sheet of paper she has to cut it in pieces which, when assembled, give squares the sides of which form an increasing sequence of numbers. At the beginning it was lot of fun but little by little we were tired of seeing the pile of torn paper. So we decided to write a program that could help us and protects trees.\n",
    "\n",
    "Task\n",
    "Given a positive integral number n, return a strictly increasing sequence (list/array/string depending on the language) of numbers, so that the sum of the squares is equal to n².\n",
    "\n",
    "If there are multiple solutions (and there will be), return as far as possible the result with the largest possible values:\n",
    "\n",
    "Examples\n",
    "decompose(11) must return [1,2,4,10]. Note that there are actually two ways to decompose 11², 11² = 121 = 1 + 4 + 16 + 100 = 1² + 2² + 4² + 10² but don't return [2,6,9], since 9 is smaller than 10.\n",
    "\n",
    "For decompose(50) don't return [1, 1, 4, 9, 49] but [1, 3, 5, 8, 49] since [1, 1, 4, 9, 49] doesn't form a strictly increasing sequence.\n",
    "\n",
    "Note\n",
    "Neither [n] nor [1,1,1,…,1] are valid solutions. If no valid solution exists, return nil, null, Nothing, None (depending on the language) or \"[]\" (C) ,{} (C++), [] (Swift, Go).\n",
    "\n",
    "The function \"decompose\" will take a positive integer n and return the decomposition of N = n² as:\n",
    "\n",
    "[x1 ... xk] or\n",
    "\"x1 ... xk\" or\n",
    "Just [x1 ... xk] or\n",
    "Some [x1 ... xk] or\n",
    "{x1 ... xk} or\n",
    "\"[x1,x2, ... ,xk]\"\n",
    "depending on the language (see \"Sample tests\")\n",
    "\n",
    "Note for Bash\n",
    "decompose 50 returns \"1,3,5,8,49\"\n",
    "decompose 4  returns \"Nothing\"\n",
    "\n",
    "Hint\n",
    "Very often xk will be n-1.\n",
    "```"
   ]
  },
  {
   "cell_type": "code",
   "execution_count": null,
   "id": "41da4af3-710d-418c-aecd-440264306ae0",
   "metadata": {},
   "outputs": [],
   "source": []
  },
  {
   "cell_type": "code",
   "execution_count": null,
   "id": "187590bb-c015-40b1-bbca-37ec5d101090",
   "metadata": {},
   "outputs": [],
   "source": []
  },
  {
   "cell_type": "code",
   "execution_count": null,
   "id": "4b51ecdf-3ebc-4aeb-ab37-82c9511c5e9c",
   "metadata": {},
   "outputs": [],
   "source": []
  },
  {
   "cell_type": "code",
   "execution_count": null,
   "id": "551f70ff-d4f8-4755-a433-e6c8900575ff",
   "metadata": {},
   "outputs": [],
   "source": []
  }
 ],
 "metadata": {
  "kernelspec": {
   "display_name": "Python 3 (ipykernel)",
   "language": "python",
   "name": "python3"
  },
  "language_info": {
   "codemirror_mode": {
    "name": "ipython",
    "version": 3
   },
   "file_extension": ".py",
   "mimetype": "text/x-python",
   "name": "python",
   "nbconvert_exporter": "python",
   "pygments_lexer": "ipython3",
   "version": "3.8.12"
  }
 },
 "nbformat": 4,
 "nbformat_minor": 5
}

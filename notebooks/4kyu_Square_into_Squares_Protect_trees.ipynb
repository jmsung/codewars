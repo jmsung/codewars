{
 "cells": [
  {
   "cell_type": "markdown",
   "id": "653bb851-b45b-4473-bc8e-d3e9ed2260c1",
   "metadata": {},
   "source": [
    "https://www.codewars.com/kata/54eb33e5bc1a25440d000891/train/python\n",
    "\n",
    "# 4kyu_Square_into_Squares_Protect_trees\n",
    "\n",
    "\n",
    "```\n",
    "My little sister came back home from school with the following task: given a squared sheet of paper she has to cut it in pieces which, when assembled, give squares the sides of which form an increasing sequence of numbers. At the beginning it was lot of fun but little by little we were tired of seeing the pile of torn paper. So we decided to write a program that could help us and protects trees.\n",
    "\n",
    "Task\n",
    "Given a positive integral number n, return a strictly increasing sequence (list/array/string depending on the language) of numbers, so that the sum of the squares is equal to n².\n",
    "\n",
    "If there are multiple solutions (and there will be), return as far as possible the result with the largest possible values:\n",
    "\n",
    "Examples\n",
    "decompose(11) must return [1,2,4,10]. Note that there are actually two ways to decompose 11², 11² = 121 = 1 + 4 + 16 + 100 = 1² + 2² + 4² + 10² but don't return [2,6,9], since 9 is smaller than 10.\n",
    "\n",
    "For decompose(50) don't return [1, 1, 4, 9, 49] but [1, 3, 5, 8, 49] since [1, 1, 4, 9, 49] doesn't form a strictly increasing sequence.\n",
    "\n",
    "Note\n",
    "Neither [n] nor [1,1,1,…,1] are valid solutions. If no valid solution exists, return nil, null, Nothing, None (depending on the language) or \"[]\" (C) ,{} (C++), [] (Swift, Go).\n",
    "\n",
    "The function \"decompose\" will take a positive integer n and return the decomposition of N = n² as:\n",
    "\n",
    "[x1 ... xk] or\n",
    "\"x1 ... xk\" or\n",
    "Just [x1 ... xk] or\n",
    "Some [x1 ... xk] or\n",
    "{x1 ... xk} or\n",
    "\"[x1,x2, ... ,xk]\"\n",
    "depending on the language (see \"Sample tests\")\n",
    "\n",
    "Note for Bash\n",
    "decompose 50 returns \"1,3,5,8,49\"\n",
    "decompose 4  returns \"Nothing\"\n",
    "\n",
    "Hint\n",
    "Very often xk will be n-1.\n",
    "```"
   ]
  },
  {
   "cell_type": "code",
   "execution_count": 1,
   "id": "41da4af3-710d-418c-aecd-440264306ae0",
   "metadata": {},
   "outputs": [],
   "source": [
    "def sum_squared(x):\n",
    "    \"\"\" Return the sum of the squared elements\n",
    "    \n",
    "    Parameters\n",
    "    ----------\n",
    "    x (list): List of numbers\n",
    "\n",
    "    Return\n",
    "    ------\n",
    "    ss (float): sum of the squared \"\"\"    \n",
    "    \n",
    "    ss = sum(map(lambda i : i * i, x))\n",
    "    return ss\n",
    "                \n",
    "\n",
    "def decompose(n):\n",
    "    \"\"\" Decompose the input value such that the sum equals to the reduced sum of the elements\n",
    "    Return the sol that contains the maximum element\n",
    "    To speed up the computationtin time, start from the largest value and stop if find the solution \"\"\"\n",
    "    \n",
    "    sols = []\n",
    "    \n",
    "    if n < 5:\n",
    "        return sols\n",
    "    \n",
    "    import itertools\n",
    "    \n",
    "    # check the case where m is included\n",
    "    for m in range(n-1, 0, -1):\n",
    "        \n",
    "        # conslider the elements [1, 2, ..., m-1]\n",
    "        elements = range(1, m)\n",
    "        \n",
    "        # Consider all the sizes between 1 and m-1\n",
    "        for size in range(1, m):\n",
    "            \n",
    "            # consider combinations of size among [1, m-1]\n",
    "            for subset in itertools.combinations(elements, size):\n",
    "                subset = subset + (m,) # add m in the subset\n",
    "                # print(subset)\n",
    "                # Find solutions where n*2 = sum of squared elements\n",
    "                if n*n == sum_squared(subset):\n",
    "                    subset = sorted(list(subset))\n",
    "                    sols.append(subset)       \n",
    "\n",
    "    \n",
    "        if sols:\n",
    "            if len(sols)>1: # if there are more than 2 solutions\n",
    "                print(\"More than 2 sols\")\n",
    "                print(sols)\n",
    "                seconds = [sol[-2] for sol in sols] # find the max of the 2nd last elements\n",
    "                index = seconds.index(max(seconds))\n",
    "                return sols[index]\n",
    "            return sols[0] # final solution\n",
    "        else:\n",
    "            print(\"No sol with \" + str(m))\n"
   ]
  },
  {
   "cell_type": "code",
   "execution_count": 2,
   "id": "551f70ff-d4f8-4755-a433-e6c8900575ff",
   "metadata": {
    "tags": []
   },
   "outputs": [
    {
     "name": "stdout",
     "output_type": "stream",
     "text": [
      "More than 2 sols\n",
      "[[5, 12], [3, 4, 12]]\n"
     ]
    },
    {
     "data": {
      "text/plain": [
       "[5, 12]"
      ]
     },
     "execution_count": 2,
     "metadata": {},
     "output_type": "execute_result"
    }
   ],
   "source": [
    "decompose(13)"
   ]
  },
  {
   "cell_type": "markdown",
   "id": "7a4c7695-78eb-45b8-b3bf-222a073f6dec",
   "metadata": {},
   "source": [
    "# Refactor: Need more efficient algorithm\n",
    "* The above algorithm works but it takes too long time for a large number, e.g. decompose(50) = [1, 3, 5, 8, 49]. More efficient algorithm?\n",
    "* We need to return only the one sol that has the highest values in the elements. So, search from the higher value with fewer combinations so that the 2nd highest is more likely higher than other solutions. "
   ]
  },
  {
   "cell_type": "code",
   "execution_count": 3,
   "id": "a2835b20-a109-46d6-b455-80b05d8a9be3",
   "metadata": {},
   "outputs": [],
   "source": [
    "import time\n",
    "\n",
    "def sum_squared(x):\n",
    "    \"\"\" Return the sum of the squared elements\n",
    "    \n",
    "    Parameters\n",
    "    ----------\n",
    "    x (list): List of numbers\n",
    "\n",
    "    Return\n",
    "    ------\n",
    "    ss (float): sum of the squared \"\"\"    \n",
    "    \n",
    "    ss = sum(map(lambda i : i * i, x))\n",
    "    return ss\n",
    "                \n",
    "\n",
    "def decompose(n):\n",
    "    \"\"\" Decompose the input value such that the sum equals to the reduced sum of the elements\n",
    "    Return the sol that contains the maximum element\n",
    "    To speed up the computationtin time, start from the largest value and stop if find the solution \"\"\"\n",
    "        \n",
    "    if n < 5:\n",
    "        return None\n",
    "    \n",
    "    import itertools\n",
    "    \n",
    "    # check the case where m is included. Start m from n-1 to 1\n",
    "    for m in range(n-1, 0, -1):\n",
    "        \n",
    "        # conslider the elements [1, 2, ..., m-1] for combination\n",
    "        elements = range(1, m)\n",
    "        \n",
    "        # Consider all the sizes between 1 and m-1\n",
    "        # Start from the fewer number so that the 2nd largest is greater if among the multi sols. \n",
    "        for size in range(1, m):\n",
    "            \n",
    "            # consider combinations of size among [1, m-1]\n",
    "            for subset in itertools.combinations(elements, size):\n",
    "                subset = subset + (m,) # add m to the subset (tupule)\n",
    "\n",
    "                # Find solutions where n*2 = sum of squared elements\n",
    "                if n*n == sum_squared(subset):\n",
    "                    return sorted(list(subset)) # conver from tupule to list and sort\n",
    "    return None"
   ]
  },
  {
   "cell_type": "code",
   "execution_count": 4,
   "id": "f3680b51-ba6d-499d-8df2-5e7a150f5bc9",
   "metadata": {},
   "outputs": [
    {
     "data": {
      "text/plain": [
       "[5, 12]"
      ]
     },
     "execution_count": 4,
     "metadata": {},
     "output_type": "execute_result"
    }
   ],
   "source": [
    "decompose(13)"
   ]
  },
  {
   "cell_type": "code",
   "execution_count": 7,
   "id": "361e73dd-cea4-4649-9c6b-a78a3a908751",
   "metadata": {},
   "outputs": [
    {
     "name": "stdout",
     "output_type": "stream",
     "text": [
      "[1, 3, 5, 8, 49]\n",
      "0.016616106033325195 sec\n"
     ]
    }
   ],
   "source": [
    "start_time = time.time()\n",
    "print(decompose(50))\n",
    "print(time.time()-start_time, 'sec')"
   ]
  },
  {
   "cell_type": "code",
   "execution_count": 8,
   "id": "eb7ab3f4-aeee-405d-b799-8834d7a7491e",
   "metadata": {},
   "outputs": [
    {
     "name": "stdout",
     "output_type": "stream",
     "text": [
      "[1, 2, 25, 37, 999]\n",
      "104.88164687156677 sec\n"
     ]
    }
   ],
   "source": [
    "start_time = time.time()\n",
    "print(decompose(1000))\n",
    "print(time.time()-start_time, 'sec')"
   ]
  },
  {
   "cell_type": "markdown",
   "id": "afa11fe6-f8b6-4a4d-b108-33de6906cc70",
   "metadata": {},
   "source": [
    "# Refactor: Still takes too long. Need to further speed up.\n",
    "* n=1000 takes 100 sec. Need to shorten this. "
   ]
  },
  {
   "cell_type": "code",
   "execution_count": null,
   "id": "8746b3b9-aa0f-4713-829a-677689957dc0",
   "metadata": {},
   "outputs": [],
   "source": [
    "def sum_squared(x):\n",
    "    \"\"\" Return the sum of the squared elements\n",
    "    \n",
    "    Parameters\n",
    "    ----------\n",
    "    x (list): List of numbers\n",
    "\n",
    "    Return\n",
    "    ------\n",
    "    ss (float): sum of the squared \"\"\"    \n",
    "    \n",
    "    ss = sum(map(lambda i : i * i, x))\n",
    "    return ss\n",
    "                \n",
    "\n",
    "def decompose(n):\n",
    "    \"\"\" Decompose the input value such that the sum equals to the reduced sum of the elements\n",
    "    Return the sol that contains the maximum element\n",
    "    To speed up the computationtin time, start from the largest value and stop if find the solution \"\"\"\n",
    "        \n",
    "    if n < 5:\n",
    "        return None\n",
    "    \n",
    "    import itertools\n",
    "    \n",
    "    # check the case where m is included. Start m from n-1 to 1\n",
    "    for m in range(n-1, 0, -1):\n",
    "        \n",
    "        # conslider the elements [1, 2, ..., m-1] for combination\n",
    "        elements = range(1, m)\n",
    "        \n",
    "        # Consider all the sizes between 1 and m-1\n",
    "        # Start from the fewer number so that the 2nd largest is greater if among the multi sols. \n",
    "        for size in range(1, m):\n",
    "            \n",
    "            # consider combinations of size among [1, m-1]\n",
    "            for subset in itertools.combinations(elements, size):\n",
    "                subset = subset + (m,) # add m to the subset (tupule)\n",
    "\n",
    "                # Find solutions where n*2 = sum of squared elements\n",
    "                if n*n == sum_squared(subset):\n",
    "                    return sorted(list(subset)) # conver from tupule to list and sort\n",
    "    return None"
   ]
  },
  {
   "cell_type": "code",
   "execution_count": null,
   "id": "628a9624-bc1f-4d28-841b-ee57a4be0b84",
   "metadata": {},
   "outputs": [],
   "source": []
  }
 ],
 "metadata": {
  "kernelspec": {
   "display_name": "Python 3 (ipykernel)",
   "language": "python",
   "name": "python3"
  },
  "language_info": {
   "codemirror_mode": {
    "name": "ipython",
    "version": 3
   },
   "file_extension": ".py",
   "mimetype": "text/x-python",
   "name": "python",
   "nbconvert_exporter": "python",
   "pygments_lexer": "ipython3",
   "version": "3.8.12"
  }
 },
 "nbformat": 4,
 "nbformat_minor": 5
}
